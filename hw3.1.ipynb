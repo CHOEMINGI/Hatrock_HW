{
 "cells": [
  {
   "cell_type": "code",
   "execution_count": 3,
   "metadata": {},
   "outputs": [
    {
     "name": "stdout",
     "output_type": "stream",
     "text": [
      "저장되었습니다\n"
     ]
    }
   ],
   "source": [
    "# 라이브러리 읽어들이기 \n",
    "from urllib import request\n",
    "\n",
    "url=\"http://uta.pw/shodou/img/28/214.png\" # url할당\n",
    "savename=\"test.png\" \n",
    "#저장\n",
    "request.urlretrieve(url, savename)\n",
    "print(\"저장되었습니다\") # 글자 출력"
   ]
  },
  {
   "cell_type": "code",
   "execution_count": 4,
   "metadata": {},
   "outputs": [
    {
     "name": "stdout",
     "output_type": "stream",
     "text": [
      "저장되었습니다..\n"
     ]
    }
   ],
   "source": [
    "# URL과 저장경로 지정하기\n",
    "url = \"http://uta.pw/shodou/img/28/214.png\" # url할당\n",
    "savename = \"test1.png\"\n",
    "#다운로드\n",
    "mem = request.urlopen(url).read()\n",
    "#파일로 저장하기, wb는 쓰기와 바이너리모드\n",
    "with open(savename, mode=\"wb\") as f:\n",
    "    f.write(mem)\n",
    "    print(\"저장되었습니다..\")"
   ]
  },
  {
   "cell_type": "code",
   "execution_count": 5,
   "metadata": {},
   "outputs": [
    {
     "name": "stdout",
     "output_type": "stream",
     "text": [
      "[ip]\n",
      "API_URI=http://api.aoikujira.com/ip/get.php\n",
      "REMOTE_ADDR=211.172.61.20\n",
      "REMOTE_HOST=211.172.61.20\n",
      "REMOTE_PORT=46622\n",
      "HTTP_HOST=api.aoikujira.com\n",
      "HTTP_USER_AGENT=Python-urllib/3.7\n",
      "HTTP_ACCEPT_LANGUAGE=\n",
      "HTTP_ACCEPT_CHARSET=\n",
      "SERVER_PORT=80\n",
      "FORMAT=ini\n",
      "\n",
      "\n"
     ]
    }
   ],
   "source": [
    "#데이터 읽어들이기\n",
    "url=\"http://api.aoikujira.com/ip/ini\"\n",
    "res=request.urlopen(url)\n",
    "data=res.read()\n",
    "\n",
    "# 디코드(바이트 ->문자로 변환)\n",
    "text=data.decode(\"utf-8\") \n",
    "print(text)"
   ]
  },
  {
   "cell_type": "code",
   "execution_count": 6,
   "metadata": {},
   "outputs": [],
   "source": [
    "from bs4 import BeautifulSoup #패키지 불러오기"
   ]
  },
  {
   "cell_type": "code",
   "execution_count": 7,
   "metadata": {},
   "outputs": [],
   "source": [
    "# html 구조 설정\n",
    "html = \"\"\"\n",
    "<html><body>\n",
    "  <h1>스크레이핑이란?</h1>\n",
    "  <p>웹 페이지를 분석하는 것</p>\n",
    "  <p>원하는 부분을 추출하는 것</p>\n",
    "</body></html>\n",
    "\"\"\""
   ]
  },
  {
   "cell_type": "code",
   "execution_count": 8,
   "metadata": {},
   "outputs": [],
   "source": [
    "soup = BeautifulSoup(html, 'html.parser') # html 분석"
   ]
  },
  {
   "cell_type": "code",
   "execution_count": 9,
   "metadata": {},
   "outputs": [],
   "source": [
    "# 원하는 부분 추출(h1, p, 그다음p)\n",
    "h1 = soup.html.body.h1\n",
    "p1 = soup.html.body.p\n",
    "p2 = p1.next_sibling.next_sibling"
   ]
  },
  {
   "cell_type": "code",
   "execution_count": 10,
   "metadata": {},
   "outputs": [
    {
     "name": "stdout",
     "output_type": "stream",
     "text": [
      "h1 = 스크레이핑이란?\n",
      "p  = 웹 페이지를 분석하는 것\n",
      "p  = 원하는 부분을 추출하는 것\n"
     ]
    }
   ],
   "source": [
    "# 요소의 글자 출력\n",
    "print(f\"h1 = {h1.string}\")\n",
    "print(f\"p  = {p1.string}\")\n",
    "print(f\"p  = {p2.string}\")"
   ]
  },
  {
   "cell_type": "code",
   "execution_count": 11,
   "metadata": {},
   "outputs": [],
   "source": [
    "soup = BeautifulSoup(html, 'html.parser') # html 파싱"
   ]
  },
  {
   "cell_type": "code",
   "execution_count": 12,
   "metadata": {},
   "outputs": [
    {
     "name": "stdout",
     "output_type": "stream",
     "text": [
      "<h1>스크레이핑이란?</h1>\n"
     ]
    }
   ],
   "source": [
    "# find 매서드로 원하는 부분 추출\n",
    "title = soup.find(\"h1\")\n",
    "body  = soup.find(\"p\")\n",
    "print(title)"
   ]
  },
  {
   "cell_type": "code",
   "execution_count": 13,
   "metadata": {},
   "outputs": [
    {
     "name": "stdout",
     "output_type": "stream",
     "text": [
      "#title = 스크레이핑이란?\n",
      "#body = 웹 페이지를 분석하는 것\n"
     ]
    }
   ],
   "source": [
    "# 텍스트 출력\n",
    "print(f\"#title = {title.string}\" )\n",
    "print(f\"#body = {body.string}\")"
   ]
  },
  {
   "cell_type": "code",
   "execution_count": 14,
   "metadata": {},
   "outputs": [],
   "source": [
    "# html 구조 설정\n",
    "html = \"\"\"\n",
    "<html><body>\n",
    "  <ul>\n",
    "    <li><a href=\"http://www.naver.com\">naver</a></li>\n",
    "    <li><a href=\"http://www.daum.net\">daum</a></li>\n",
    "  </ul>\n",
    "</body></html>\n",
    "\"\"\"\n",
    "\n",
    "soup = BeautifulSoup(html, 'html.parser')"
   ]
  },
  {
   "cell_type": "code",
   "execution_count": 15,
   "metadata": {},
   "outputs": [
    {
     "name": "stdout",
     "output_type": "stream",
     "text": [
      "[<a href=\"http://www.naver.com\">naver</a>, <a href=\"http://www.daum.net\">daum</a>] 2\n"
     ]
    }
   ],
   "source": [
    "# find_all 매서드 사용\n",
    "links = soup.find_all(\"a\")\n",
    "print(links, len(links))"
   ]
  },
  {
   "cell_type": "code",
   "execution_count": 16,
   "metadata": {},
   "outputs": [
    {
     "name": "stdout",
     "output_type": "stream",
     "text": [
      "naver > http://www.naver.com\n",
      "daum > http://www.daum.net\n"
     ]
    }
   ],
   "source": [
    "# links 안에 있는 목록 출력\n",
    "for a in links:\n",
    "    href = a.attrs['href'] # href의 속성에 있는 속성값을 추출\n",
    "    text = a.string \n",
    "    print(text, \">\", href)"
   ]
  },
  {
   "cell_type": "code",
   "execution_count": 17,
   "metadata": {},
   "outputs": [],
   "source": [
    "# html 구조 설정\n",
    "html = \"\"\"\n",
    "<html><body>\n",
    "<div id=\"meigen\">\n",
    "  <h1>위키북스 도서</h1>\n",
    "  <ul class=\"items\">\n",
    "    <li>유니티 게임 이펙트 입문</li>\n",
    "    <li>스위프트로 시작하는 아이폰 앱 개발 교과서</li>\n",
    "    <li>모던 웹사이트 디자인의 정석</li>\n",
    "  </ul>\n",
    "</div>\n",
    "</body></html>\n",
    "\"\"\"\n",
    "\n",
    "# HTML 분석하기 \n",
    "soup = BeautifulSoup(html, 'html.parser')"
   ]
  },
  {
   "cell_type": "code",
   "execution_count": 18,
   "metadata": {},
   "outputs": [
    {
     "name": "stdout",
     "output_type": "stream",
     "text": [
      "h1 = 위키북스 도서\n",
      "li = 유니티 게임 이펙트 입문\n",
      "li = 스위프트로 시작하는 아이폰 앱 개발 교과서\n",
      "li = 모던 웹사이트 디자인의 정석\n"
     ]
    }
   ],
   "source": [
    "# 타이틀 추출\n",
    "h1 = soup.select_one(\"div#meigen > h1\").string\n",
    "print(f\"h1 = {h1}\")\n",
    "\n",
    "# 목록 추출(for문으로 모두 추출)\n",
    "li_list = soup.select(\"div#meigen > ul.items > li\")\n",
    "for li in li_list:\n",
    "  print(f\"li = {li.string}\")"
   ]
  },
  {
   "cell_type": "code",
   "execution_count": 19,
   "metadata": {},
   "outputs": [],
   "source": [
    "# 패키지 불러오기\n",
    "from bs4 import BeautifulSoup\n",
    "from urllib import request, parse"
   ]
  },
  {
   "cell_type": "code",
   "execution_count": 20,
   "metadata": {},
   "outputs": [],
   "source": [
    "# html 가져오기\n",
    "url = \"https://finance.naver.com/marketindex/\"\n",
    "res = request.urlopen(url)"
   ]
  },
  {
   "cell_type": "code",
   "execution_count": 21,
   "metadata": {},
   "outputs": [],
   "source": [
    "soup = BeautifulSoup(res, \"html.parser\") # html 분석"
   ]
  },
  {
   "cell_type": "code",
   "execution_count": 22,
   "metadata": {},
   "outputs": [
    {
     "name": "stdout",
     "output_type": "stream",
     "text": [
      "usd/krw = 1,174.00\n"
     ]
    }
   ],
   "source": [
    "# 원하는 selector 추출\n",
    "price = soup.select_one(\"div.head_info > span.value\").string\n",
    "print(\"usd/krw =\", price) # 출력"
   ]
  },
  {
   "cell_type": "code",
   "execution_count": 23,
   "metadata": {},
   "outputs": [
    {
     "name": "stdout",
     "output_type": "stream",
     "text": [
      "url= http://www.kma.go.kr/weather/forecast/mid-term-rss3.jsp?stnId=109\n"
     ]
    }
   ],
   "source": [
    "url = \"http://www.kma.go.kr/weather/forecast/mid-term-rss3.jsp\" # url 할당\n",
    "\n",
    "#매개변수를 URL로 인코딩한다.\n",
    "values = {\n",
    "    'stnId':'109'\n",
    "}\n",
    "\n",
    "params=parse.urlencode(values)\n",
    "url += \"?\"+params # URL에 매개변수 추가\n",
    "print(\"url=\", url)\n",
    "\n",
    "res = request.urlopen(url)"
   ]
  },
  {
   "cell_type": "code",
   "execution_count": 24,
   "metadata": {},
   "outputs": [],
   "source": [
    "soup = BeautifulSoup(res, \"html.parser\") # html 분석"
   ]
  },
  {
   "cell_type": "code",
   "execution_count": 25,
   "metadata": {},
   "outputs": [
    {
     "name": "stdout",
     "output_type": "stream",
     "text": [
      "서울,경기도 육상중기예보\n",
      "○ (강수) 29일(수) 오후에는 비가 내리겠습니다.<br />○ (기온) 이번 예보기간 아침최저기온은 14~20도, 낮최고기온은 24~27도로 오늘(23일, 아침최저기온 14~19도, 낮최고기온 25~26도)과 비슷하겠습니다.<br />○ (해상) 서해중부해상의 물결은 1.0~2.0m로 일겠습니다.\n"
     ]
    }
   ],
   "source": [
    "# find 매서드 이용 방법\n",
    "# header 부분 찾기\n",
    "header = soup.find(\"header\")\n",
    "\n",
    "# 타이틀 추출\n",
    "title = header.find(\"title\").text\n",
    "wf = header.find(\"wf\").text\n",
    "\n",
    "# 출력\n",
    "print(title)\n",
    "print(wf)"
   ]
  },
  {
   "cell_type": "code",
   "execution_count": 26,
   "metadata": {},
   "outputs": [
    {
     "name": "stdout",
     "output_type": "stream",
     "text": [
      "서울,경기도 육상중기예보\n",
      "○ (강수) 29일(수) 오후에는 비가 내리겠습니다.<br />○ (기온) 이번 예보기간 아침최저기온은 14~20도, 낮최고기온은 24~27도로 오늘(23일, 아침최저기온 14~19도, 낮최고기온 25~26도)과 비슷하겠습니다.<br />○ (해상) 서해중부해상의 물결은 1.0~2.0m로 일겠습니다.\n"
     ]
    }
   ],
   "source": [
    "# css selector 이용 방법\n",
    "title = soup.select_one(\"header > title\").text\n",
    "wf = header.select_one(\"header wf\").text\n",
    "\n",
    "# 출력\n",
    "print(title)\n",
    "print(wf)"
   ]
  },
  {
   "cell_type": "code",
   "execution_count": 27,
   "metadata": {},
   "outputs": [
    {
     "name": "stdout",
     "output_type": "stream",
     "text": [
      "- None\n",
      "- None\n",
      "- None\n",
      "- None\n",
      "- None\n",
      "- None\n",
      "- None\n",
      "- None\n",
      "- None\n",
      "- None\n",
      "- None\n",
      "- None\n",
      "- None\n",
      "- None\n",
      "- None\n",
      "- None\n",
      "- None\n",
      "- None\n",
      "- None\n",
      "- None\n",
      "- None\n",
      "- None\n",
      "- None\n",
      "- None\n",
      "- None\n",
      "- None\n",
      "- 별 헤는 밤\n",
      "- 하늘과 바람과 별과 시\n",
      "- 1976년\n",
      "- 별을 사랑하는 아이들아\n",
      "- 명동소학교\n",
      "- 평안남도\n",
      "- 평양\n",
      "- 숭실고등보통학교\n",
      "- 길림광명중학교\n",
      "- 경성 연희전문학교\n",
      "- 일본\n",
      "- 릿쿄 대학\n",
      "- 일본\n",
      "- 도시샤 대학\n",
      "- 서울 숭실고등학교\n",
      "- 1990년\n",
      "- 8월 15일\n",
      "- 대한민국\n",
      "- 건국공로훈장 독립장\n",
      "- 국민훈장\n",
      "- [16]\n",
      "- 윤동주문학관\n",
      "- [17]\n",
      "- [18]\n",
      "- 1968년\n",
      "- 11월 2일\n",
      "- 연세대학교\n",
      "- 1990년\n",
      "- 대한민국\n",
      "- 정부\n",
      "- 건국공로훈장\n",
      "- [19]\n",
      "- 1992년\n",
      "- [20]\n",
      "- 1995년\n",
      "- 일본\n",
      "- 도시샤 대학\n",
      "- [21]\n",
      "- [22]\n",
      "- 1999년\n",
      "- 한국\n",
      "- 20세기\n",
      "- 한국\n",
      "- 예술\n",
      "- 1875년\n",
      "- 3월 8일\n",
      "- 음력 2월 1일\n",
      "- 1948년\n",
      "- 9월 4일\n",
      "- 1895년\n",
      "- 8월 1일\n",
      "- 1965년\n",
      "- 4월 20일\n",
      "- 1891년\n",
      "- 10월 1일\n",
      "- 1948년\n",
      "- 9월 26일\n",
      "- 1924년\n",
      "- 2011년\n",
      "- 12월 11일\n",
      "- 1924년\n",
      "- 2015년\n",
      "- 3월 11일\n",
      "- 윤일주\n",
      "- 1927년\n",
      "- 11월 23일\n",
      "- 1985년\n",
      "- 11월 28일\n",
      "- 1956년\n",
      "- 1933년\n",
      "- 5월 15일\n",
      "- 1962년\n",
      "- 11월 30일\n",
      "- 김약연\n",
      "- 1868년\n",
      "- 9월 12일\n",
      "- 1942년\n",
      "- 10월 29일\n",
      "- 정병욱\n",
      "- 1922년\n",
      "- 3월 25일\n",
      "- 1982년\n",
      "- 10월 12일\n",
      "- KBS1\n",
      "- 1984년\n",
      "- [23]\n",
      "- KBS1\n",
      "- [24]\n",
      "- NHK\n",
      "- [25]\n",
      "- EBS\n",
      "- 지식채널e\n",
      "- KBS\n",
      "- 해피선데이\n",
      "- 1박 2일\n",
      "- 2008년\n",
      "- 6\n",
      "- 7월\n",
      "- SBS\n",
      "- 그것이 알고싶다\n",
      "- 2009년\n",
      "- 8월 15일\n",
      "- MBC\n",
      "- MBC스페셜\n",
      "- 2011년\n",
      "- 11월 4일\n",
      "- KBS1\n",
      "- 동주\n",
      "- 강하늘\n",
      "- 도시샤 대학\n",
      "- 릿쿄 대학\n",
      "- 연희전문학교\n",
      "- 송몽규\n",
      "- 문익환\n",
      "- 정병욱\n",
      "- 안병욱\n",
      "- 장준하\n",
      "- 정지용\n",
      "- 김기창\n",
      "- 참회록\n",
      "- 김영랑\n",
      "- 박목월\n",
      "- 박두진\n",
      "- 박종화\n",
      "- 송진우\n",
      "- 심련수\n",
      "- 이광수\n",
      "- 장면\n",
      "- 조지훈\n",
      "- 마루타\n",
      "- 연세대학교\n",
      "- 후쿠오카현\n",
      "- 윤영춘\n",
      "- 김소월\n",
      "- 윤명선\n",
      "- 조만식\n",
      "- 윤형주\n",
      "- 마광수\n",
      "- 이상섭, 「윤동주의 무서운 아이러니」, 《새국어생활》제14권, 국립국어원\n",
      "- \"욘사마보다 윤사마가 좋아\" 생체실험 희생의혹 윤동주, 日에서 부활하다\n",
      "- '조선족' 윤동주를 생각해 보셨나요?:민족시인 윤동주 서거 65주년에 부쳐 - 오마이뉴스\n",
      "- 독립운동가 - 윤동주\n",
      "- 윤동주 : 독립유공자 공훈록\n",
      "- 국가보훈처\n",
      "- 연세대학교 윤동주 기념사업회\n",
      "- 〈윤동주〉\n",
      "- 윤동주, 시인이란 슬픈 천명을 안고 간 청년 시인\n",
      "- 「北문학지 \"윤동주는 반일 애국시인\"」\n",
      "- 윤동주의 신앙은 기독교 구국정신과 일치\n",
      "- 깨진 링크\n",
      "- 과거 내용 찾기\n",
      "- 김기창과 윤동주\n",
      "- 윤동주 사진\n",
      "- 가수 윤형주, 알고보니 시인 윤동주의 친척 동생 화제\n",
      "- v\n",
      "- t\n",
      "- e\n",
      "- 이황\n",
      "- 정선\n",
      "- 박지원\n",
      "- 우장춘\n",
      "- 신사임당\n",
      "- 류성룡\n",
      "- 일연\n",
      "- 홍난파\n",
      "- 고유섭\n",
      "- 이윤재\n",
      "- 안창호\n",
      "- 윤동주\n",
      "- v\n",
      "- t\n",
      "- e\n",
      "- 임치정\n",
      "- 김광제\n",
      "- 서상돈\n",
      "- 권동진\n",
      "- 손정도\n",
      "- 조신성\n",
      "- 이위종\n",
      "- 구춘선\n",
      "- 정환직\n",
      "- 박시창\n",
      "- 권득수\n",
      "- 주기철\n",
      "- 윤동주\n",
      "- ISNI\n",
      "- 1\n",
      "- VIAF\n",
      "- 1\n",
      "- 월드캣\n",
      "- 프랑스\n",
      "- (데이터)\n",
      "- 미국\n",
      "- 일본\n",
      "- 한국\n",
      "- 폴란드\n",
      "- Faceted Application of Subject Terminology\n",
      "- SUDOC (프랑스)\n",
      "- 1\n",
      "- Trove (오스트레일리아)\n",
      "- 1\n"
     ]
    }
   ],
   "source": [
    "url = \"https://ko.wikipedia.org/wiki/%EC%9C%A4%EB%8F%99%EC%A3%BC\"\n",
    "res = request.urlopen(url)\n",
    "soup = BeautifulSoup(res, \"html.parser\")\n",
    "\n",
    "# #mw-content-text 바로 아래에 있는 \n",
    "# ul 태그 바로 아래에 있는\n",
    "# li 태그 아래에 있는\n",
    "# a 태그를 모두 선택합니다.\n",
    "a_list = soup.select(\"#mw-content-text   ul > li  a\")\n",
    "for a in a_list:\n",
    "    name = a.string\n",
    "    print(f\"- {name}\", )"
   ]
  },
  {
   "cell_type": "code",
   "execution_count": 28,
   "metadata": {},
   "outputs": [],
   "source": [
    "from bs4 import BeautifulSoup\n",
    "from urllib import request"
   ]
  },
  {
   "cell_type": "code",
   "execution_count": 29,
   "metadata": {},
   "outputs": [
    {
     "name": "stdout",
     "output_type": "stream",
     "text": [
      "\n",
      "                                        국민은행 29일부터 대출 한도 또 줄인다\n",
      "                                    \n",
      "\n",
      "                                        美 연준 “자산매입 축소 곧 시작할 수도”…금리 인상 예측 시기도 빨라져\n",
      "                                    \n",
      "\n",
      "                                        서울우유, 우윳값 5.4%↑…흰우유 1리터 2500원→2700원\n",
      "                                    \n",
      "\n",
      "                                        CNN \"부채 360조 헝다그룹, 결국 파산 피할 수 없어\" [강현우의 중국주식 분석]\n",
      "                                    \n",
      "\n",
      "                                        ‘밤의 전쟁’ 운영자·불법 도박사이트 총책 필리핀서 잡혔다\n",
      "                                    \n"
     ]
    }
   ],
   "source": [
    "url = \"https://news.naver.com/\" # url 할당\n",
    "\n",
    "res = request.urlopen(url)\n",
    "soup = BeautifulSoup(res, \"html.parser\")\n",
    "\n",
    "# 오늘의 메인뉴스 select 부분만 추출\n",
    "selector = \"#today_main_news > div.hdline_news > ul > li > div.hdline_article_tit > a\"\n",
    "\n",
    "# 출력\n",
    "for a in soup.select(selector):\n",
    "    title = a.text\n",
    "    print(title)"
   ]
  },
  {
   "cell_type": "code",
   "execution_count": 30,
   "metadata": {
    "scrolled": true
   },
   "outputs": [
    {
     "name": "stdout",
     "output_type": "stream",
     "text": [
      "['어린이를 위한 공원내 식당에 아기를 위한 시설 부족(아기의자가 왜 없죠?)', '강창수 해설사님 ', '동물해설사님 칭찬', '강창수 동물 해설사님', '놀이동산 푸드코트 김치가 중국산인 이유는?', '주슨트 설명 최고예요!!', '강창수 주슨트님 최고 !!', 'ZOOCENT 스케줄표?', '호주동물 호주설명 ', '호주및 호주동물 설명에 대해 '] ['https://www.sisul.or.kr/open_content/childrenpark/qna/qnaMsgDetail.do;jsessionid=m8x71N1pABgDLzro5Jwv1VbR6bcx9372ZzaJoHK1FvplaRrBp1EvANqh2HDARgID.etisw2_servlet_user?qnaid=QNAS20210923000005&pgno=1', 'https://www.sisul.or.kr/open_content/childrenpark/qna/qnaMsgDetail.do;jsessionid=m8x71N1pABgDLzro5Jwv1VbR6bcx9372ZzaJoHK1FvplaRrBp1EvANqh2HDARgID.etisw2_servlet_user?qnaid=QNAS20210920000001&pgno=1', 'https://www.sisul.or.kr/open_content/childrenpark/qna/qnaMsgDetail.do;jsessionid=m8x71N1pABgDLzro5Jwv1VbR6bcx9372ZzaJoHK1FvplaRrBp1EvANqh2HDARgID.etisw2_servlet_user?qnaid=QNAS20210919000004&pgno=1', 'https://www.sisul.or.kr/open_content/childrenpark/qna/qnaMsgDetail.do;jsessionid=m8x71N1pABgDLzro5Jwv1VbR6bcx9372ZzaJoHK1FvplaRrBp1EvANqh2HDARgID.etisw2_servlet_user?qnaid=QNAS20210919000003&pgno=1', 'https://www.sisul.or.kr/open_content/childrenpark/qna/qnaMsgDetail.do;jsessionid=m8x71N1pABgDLzro5Jwv1VbR6bcx9372ZzaJoHK1FvplaRrBp1EvANqh2HDARgID.etisw2_servlet_user?qnaid=QNAS20210918000002&pgno=1', 'https://www.sisul.or.kr/open_content/childrenpark/qna/qnaMsgDetail.do;jsessionid=m8x71N1pABgDLzro5Jwv1VbR6bcx9372ZzaJoHK1FvplaRrBp1EvANqh2HDARgID.etisw2_servlet_user?qnaid=QNAS20210909000001&pgno=1', 'https://www.sisul.or.kr/open_content/childrenpark/qna/qnaMsgDetail.do;jsessionid=m8x71N1pABgDLzro5Jwv1VbR6bcx9372ZzaJoHK1FvplaRrBp1EvANqh2HDARgID.etisw2_servlet_user?qnaid=QNAS20210908000004&pgno=1', 'https://www.sisul.or.kr/open_content/childrenpark/qna/qnaMsgDetail.do;jsessionid=m8x71N1pABgDLzro5Jwv1VbR6bcx9372ZzaJoHK1FvplaRrBp1EvANqh2HDARgID.etisw2_servlet_user?qnaid=QNAS20210906000002&pgno=1', 'https://www.sisul.or.kr/open_content/childrenpark/qna/qnaMsgDetail.do;jsessionid=m8x71N1pABgDLzro5Jwv1VbR6bcx9372ZzaJoHK1FvplaRrBp1EvANqh2HDARgID.etisw2_servlet_user?qnaid=QNAS20210904000006&pgno=1', 'https://www.sisul.or.kr/open_content/childrenpark/qna/qnaMsgDetail.do;jsessionid=m8x71N1pABgDLzro5Jwv1VbR6bcx9372ZzaJoHK1FvplaRrBp1EvANqh2HDARgID.etisw2_servlet_user?qnaid=QNAS20210904000004&pgno=1']\n"
     ]
    }
   ],
   "source": [
    "url_head = \"https://www.sisul.or.kr\" # url 할당\n",
    "\n",
    "url_board = url_head + \"/open_content/childrenpark/qna/qnaMsgList.do?pgno=1\"\n",
    "\n",
    "\n",
    "\n",
    "res = request.urlopen(url_board)\n",
    "soup = BeautifulSoup(res, \"html.parser\")\n",
    "\n",
    "# selector = \"#detail_con > div.generalboard > table > tbody > tr > td.left.title > a\"\n",
    "# 출력하고 싶은 select부분\n",
    "selector = \"#detail_con > div.generalboard > table > tbody > tr > td.left.title > a\"\n",
    "titles = []\n",
    "links = []\n",
    "\n",
    "#출력\n",
    "for a in soup.select(selector):\n",
    "    titles.append(a.text)\n",
    "    links.append(url_head + a.attrs[\"href\"])\n",
    "    \n",
    "print(titles, links)"
   ]
  },
  {
   "cell_type": "code",
   "execution_count": 31,
   "metadata": {},
   "outputs": [
    {
     "data": {
      "text/html": [
       "<div>\n",
       "<style scoped>\n",
       "    .dataframe tbody tr th:only-of-type {\n",
       "        vertical-align: middle;\n",
       "    }\n",
       "\n",
       "    .dataframe tbody tr th {\n",
       "        vertical-align: top;\n",
       "    }\n",
       "\n",
       "    .dataframe thead th {\n",
       "        text-align: right;\n",
       "    }\n",
       "</style>\n",
       "<table border=\"1\" class=\"dataframe\">\n",
       "  <thead>\n",
       "    <tr style=\"text-align: right;\">\n",
       "      <th></th>\n",
       "      <th>title</th>\n",
       "      <th>link</th>\n",
       "    </tr>\n",
       "  </thead>\n",
       "  <tbody>\n",
       "    <tr>\n",
       "      <th>0</th>\n",
       "      <td>어린이를 위한 공원내 식당에 아기를 위한 시설 부족(아기의자가 왜 없죠?)</td>\n",
       "      <td>https://www.sisul.or.kr/open_content/childrenp...</td>\n",
       "    </tr>\n",
       "    <tr>\n",
       "      <th>1</th>\n",
       "      <td>강창수 해설사님</td>\n",
       "      <td>https://www.sisul.or.kr/open_content/childrenp...</td>\n",
       "    </tr>\n",
       "    <tr>\n",
       "      <th>2</th>\n",
       "      <td>동물해설사님 칭찬</td>\n",
       "      <td>https://www.sisul.or.kr/open_content/childrenp...</td>\n",
       "    </tr>\n",
       "    <tr>\n",
       "      <th>3</th>\n",
       "      <td>강창수 동물 해설사님</td>\n",
       "      <td>https://www.sisul.or.kr/open_content/childrenp...</td>\n",
       "    </tr>\n",
       "    <tr>\n",
       "      <th>4</th>\n",
       "      <td>놀이동산 푸드코트 김치가 중국산인 이유는?</td>\n",
       "      <td>https://www.sisul.or.kr/open_content/childrenp...</td>\n",
       "    </tr>\n",
       "  </tbody>\n",
       "</table>\n",
       "</div>"
      ],
      "text/plain": [
       "                                       title  \\\n",
       "0  어린이를 위한 공원내 식당에 아기를 위한 시설 부족(아기의자가 왜 없죠?)   \n",
       "1                                  강창수 해설사님    \n",
       "2                                  동물해설사님 칭찬   \n",
       "3                                강창수 동물 해설사님   \n",
       "4                    놀이동산 푸드코트 김치가 중국산인 이유는?   \n",
       "\n",
       "                                                link  \n",
       "0  https://www.sisul.or.kr/open_content/childrenp...  \n",
       "1  https://www.sisul.or.kr/open_content/childrenp...  \n",
       "2  https://www.sisul.or.kr/open_content/childrenp...  \n",
       "3  https://www.sisul.or.kr/open_content/childrenp...  \n",
       "4  https://www.sisul.or.kr/open_content/childrenp...  "
      ]
     },
     "execution_count": 31,
     "metadata": {},
     "output_type": "execute_result"
    }
   ],
   "source": [
    "import pandas as pd # 패키지 불러오기\n",
    "\n",
    "#데이터 프레임 형태로 만들기\n",
    "board_df = pd.DataFrame({\"title\": titles, \"link\": links})\n",
    "board_df.head()"
   ]
  },
  {
   "cell_type": "code",
   "execution_count": 31,
   "metadata": {},
   "outputs": [],
   "source": [
    "# csv 형태로 저장\n",
    "board_df.to_csv(\"board.csv\", index=False)"
   ]
  }
 ],
 "metadata": {
  "kernelspec": {
   "display_name": "Python 3",
   "language": "python",
   "name": "python3"
  },
  "language_info": {
   "codemirror_mode": {
    "name": "ipython",
    "version": 3
   },
   "file_extension": ".py",
   "mimetype": "text/x-python",
   "name": "python",
   "nbconvert_exporter": "python",
   "pygments_lexer": "ipython3",
   "version": "3.7.6"
  }
 },
 "nbformat": 4,
 "nbformat_minor": 4
}
